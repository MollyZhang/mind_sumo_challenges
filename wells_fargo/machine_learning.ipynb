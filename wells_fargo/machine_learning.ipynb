{
 "cells": [
  {
   "cell_type": "code",
   "execution_count": 1,
   "metadata": {
    "collapsed": true
   },
   "outputs": [],
   "source": [
    "from sklearn import cross_validation, preprocessing\n",
    "from sklearn import tree, metrics, neighbors, linear_model, svm, ensemble\n",
    "import xgboost\n",
    "import pandas as pd\n",
    "import numpy as np"
   ]
  },
  {
   "cell_type": "code",
   "execution_count": 2,
   "metadata": {
    "collapsed": false
   },
   "outputs": [],
   "source": [
    "df = pd.read_csv(\"data/wells_fargo_data.csv\")"
   ]
  },
  {
   "cell_type": "code",
   "execution_count": 20,
   "metadata": {
    "collapsed": true
   },
   "outputs": [],
   "source": [
    "def data_label_split(df):\n",
    "    label = df.normal_tot_bal.copy()\n",
    "    label[label >= 0] = 1\n",
    "    label[label < 0] = 0\n",
    "    data = df.drop(\"normal_tot_bal\", axis=1)\n",
    "    return data, label\n",
    "    \n",
    "def folds_to_split(data,targets,train,test):\n",
    "    data_tr = pd.DataFrame(data).iloc[train]\n",
    "    data_te = pd.DataFrame(data).iloc[test]\n",
    "    labels_tr = pd.DataFrame(targets).iloc[train]\n",
    "    labels_te = pd.DataFrame(targets).iloc[test]\n",
    "    return [data_tr, data_te, labels_tr, labels_te]\n",
    "\n",
    "def run_cross_validation(x_train, y_train, classifiers):\n",
    "    result_df = pd.DataFrame()\n",
    "    foldnum = 0\n",
    "    for train, val in cross_validation.KFold(len(x_train), shuffle=True, n_folds=5, random_state=0):\n",
    "        foldnum += 1\n",
    "        [tr_data, val_data, tr_targets, val_targets] = folds_to_split(x_train, y_train, train, val)\n",
    "        tr_targets = tr_targets.as_matrix().ravel()\n",
    "        val_targets = val_targets.as_matrix().ravel()\n",
    "\n",
    "        for classfier_name, clf in classifiers.iteritems():\n",
    "            clf.fit(tr_data, tr_targets)\n",
    "            prediction = clf.predict(val_data)\n",
    "            accuracy = metrics.roc_auc_score(prediction, val_targets)\n",
    "            result_df.loc[foldnum, classfier_name] = accuracy\n",
    "    return result_df"
   ]
  },
  {
   "cell_type": "code",
   "execution_count": 21,
   "metadata": {
    "collapsed": false
   },
   "outputs": [],
   "source": [
    "data, label = data_label_split(df)\n",
    "x_train, x_test, y_train, y_test = cross_validation.train_test_split(\n",
    "    data, label, test_size=0.1, random_state=0)"
   ]
  },
  {
   "cell_type": "code",
   "execution_count": 22,
   "metadata": {
    "collapsed": false
   },
   "outputs": [
    {
     "name": "stdout",
     "output_type": "stream",
     "text": [
      "        KNN  Decision tree   XGBoost  Logistic regression  Ada Boost  \\\n",
      "1  0.919199       0.960603  0.943619             0.900240   0.943823   \n",
      "2  0.919711       0.957811  0.948497             0.895487   0.948755   \n",
      "3  0.924496       0.957693  0.948577             0.907414   0.949126   \n",
      "4  0.923235       0.956330  0.946406             0.909724   0.946338   \n",
      "5  0.928655       0.962299  0.944673             0.902916   0.945131   \n",
      "\n",
      "   Random Forest  \n",
      "1       0.966207  \n",
      "2       0.970797  \n",
      "3       0.971510  \n",
      "4       0.968790  \n",
      "5       0.968524  \n"
     ]
    }
   ],
   "source": [
    "Classifiers = {\"Decision tree\": tree.DecisionTreeClassifier(),\n",
    "               \"Random Forest\": ensemble.RandomForestClassifier(n_estimators=20),\n",
    "               \"KNN\": neighbors.KNeighborsClassifier(),\n",
    "               \"Logistic regression\": linear_model.LogisticRegression(),\n",
    "               \"Ada Boost\": ensemble.AdaBoostClassifier(),\n",
    "               \"XGBoost\": xgboost.XGBClassifier(n_estimators=20),\n",
    "              }\n",
    "print run_cross_validation(x_train, y_train, Classifiers)"
   ]
  },
  {
   "cell_type": "code",
   "execution_count": null,
   "metadata": {
    "collapsed": true
   },
   "outputs": [],
   "source": []
  }
 ],
 "metadata": {
  "kernelspec": {
   "display_name": "Python 2",
   "language": "python",
   "name": "python2"
  },
  "language_info": {
   "codemirror_mode": {
    "name": "ipython",
    "version": 2
   },
   "file_extension": ".py",
   "mimetype": "text/x-python",
   "name": "python",
   "nbconvert_exporter": "python",
   "pygments_lexer": "ipython2",
   "version": "2.7.12"
  }
 },
 "nbformat": 4,
 "nbformat_minor": 0
}
